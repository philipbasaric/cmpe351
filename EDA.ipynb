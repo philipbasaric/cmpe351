{
 "cells": [
  {
   "cell_type": "code",
   "execution_count": 1,
   "id": "73810fe5",
   "metadata": {},
   "outputs": [],
   "source": [
    "import numpy as np\n",
    "import json\n",
    "import pandas as pd\n",
    "\n",
    "import matplotlib.pyplot as plt\n",
    "import plotly.express as px\n",
    "import seaborn as sns"
   ]
  },
  {
   "cell_type": "markdown",
   "id": "fdc859c8-ae64-46d8-9e03-e239fb23168c",
   "metadata": {},
   "source": [
    "The following function loads relevant information regarding stock performance after an article publication. The goal in our project is to predict whether a stock price will increase, decrease, or stay the same following the publication of an article about a company. The 'start_price' is the first avaible stock price after the article was published ('pub_time'). 'end_price_1days' is the price of the stock at the end of the trading day (or the following trading day if the article was published after 4pm ET). 'BUY', 'SELL', and 'HOLD' are determined as follows:\n",
    "- 'BUY': If the percent increase in stock price from publication time ('start_price') to the stock price at the end of the day ('end_price_1days') is >0.5%\n",
    "- 'SELL': If the percent increase in stock price from publication time ('start_price') to the stock price at the end of the day ('end_price_1days') is <-0.5%\n",
    "- 'HOLD': If the percent increase in stock price from publication time ('start_price') to the stock price at the end of the day ('end_price_1days')is between -0.5, +0.5\n"
   ]
  },
  {
   "cell_type": "code",
   "execution_count": 2,
   "id": "beaacac1-be14-4135-a6a9-23a1103f858b",
   "metadata": {},
   "outputs": [],
   "source": [
    "def load_data_into_df(path):\n",
    "    with open(path, \"r\") as f:\n",
    "        data = json.load(f)\n",
    "    id = 0\n",
    "\n",
    "    ids = []\n",
    "    tickers = []\n",
    "    pub_times = []\n",
    "    start_times = []\n",
    "    start_price_opens = []\n",
    "    end_price_1days = []\n",
    "    stock_price_changes = []\n",
    "    stock_price_percent_change = []\n",
    "    actions = []\n",
    "    for item in data:\n",
    "        try:\n",
    "            pub_time = item['pub_time']\n",
    "            ticker = item['labels']['ticker']\n",
    "            start_price = item['labels']['start_price_open']\n",
    "            end_price = item['labels']['end_price_1day']\n",
    "        except KeyError:\n",
    "            continue # Skip any articles that have missing data\n",
    "\n",
    "        ids.append(id)\n",
    "        id += 1\n",
    "        pub_times.append(pub_time)\n",
    "        tickers.append(ticker)\n",
    "        start_price_opens.append(start_price)\n",
    "        end_price_1days.append(end_price)\n",
    "        stock_price_changes.append(end_price - start_price)\n",
    "\n",
    "        percent_change = ((end_price - start_price) / start_price)*100\n",
    "        stock_price_percent_change.append(percent_change)\n",
    "\n",
    "        if abs(percent_change) <= 0.5:\n",
    "            action = 'HOLD'\n",
    "        elif percent_change > 0.5:\n",
    "            action = 'BUY'\n",
    "        elif percent_change < -0.5:\n",
    "            action = 'SELL'\n",
    "        else:\n",
    "            action = None\n",
    "\n",
    "        actions.append(action)\n",
    "\n",
    "    return pd.DataFrame.from_dict(\n",
    "        {\n",
    "            'id': ids,\n",
    "            'pub_time': pub_times,\n",
    "            'ticker': tickers,\n",
    "            'start_price': start_price_opens,\n",
    "            'end_price_1day': end_price_1days,\n",
    "            'price_change': stock_price_changes,\n",
    "            'price_change_percent': stock_price_percent_change,\n",
    "            'action': actions\n",
    "        }\n",
    "    )"
   ]
  },
  {
   "cell_type": "code",
   "execution_count": 3,
   "id": "f4c711ea-f284-4909-aa15-efcf846e6b49",
   "metadata": {},
   "outputs": [],
   "source": [
    "df = load_data_into_df('data/Trading_benchmark/evaluate_news.json')"
   ]
  },
  {
   "cell_type": "code",
   "execution_count": 4,
   "id": "21b367d3-042a-41c9-84fe-9af0cf5a21e6",
   "metadata": {},
   "outputs": [
    {
     "data": {
      "text/html": [
       "<div>\n",
       "<style scoped>\n",
       "    .dataframe tbody tr th:only-of-type {\n",
       "        vertical-align: middle;\n",
       "    }\n",
       "\n",
       "    .dataframe tbody tr th {\n",
       "        vertical-align: top;\n",
       "    }\n",
       "\n",
       "    .dataframe thead th {\n",
       "        text-align: right;\n",
       "    }\n",
       "</style>\n",
       "<table border=\"1\" class=\"dataframe\">\n",
       "  <thead>\n",
       "    <tr style=\"text-align: right;\">\n",
       "      <th></th>\n",
       "      <th>id</th>\n",
       "      <th>pub_time</th>\n",
       "      <th>ticker</th>\n",
       "      <th>start_price</th>\n",
       "      <th>end_price_1day</th>\n",
       "      <th>price_change</th>\n",
       "      <th>price_change_percent</th>\n",
       "      <th>action</th>\n",
       "    </tr>\n",
       "  </thead>\n",
       "  <tbody>\n",
       "    <tr>\n",
       "      <th>0</th>\n",
       "      <td>0</td>\n",
       "      <td>2020-12-08 09:00:00-05:00</td>\n",
       "      <td>MIK</td>\n",
       "      <td>12.07</td>\n",
       "      <td>12.80</td>\n",
       "      <td>0.73</td>\n",
       "      <td>6.048053</td>\n",
       "      <td>BUY</td>\n",
       "    </tr>\n",
       "    <tr>\n",
       "      <th>1</th>\n",
       "      <td>1</td>\n",
       "      <td>2020-10-01 12:11:00-04:00</td>\n",
       "      <td>DUK</td>\n",
       "      <td>89.74</td>\n",
       "      <td>90.05</td>\n",
       "      <td>0.31</td>\n",
       "      <td>0.345442</td>\n",
       "      <td>HOLD</td>\n",
       "    </tr>\n",
       "    <tr>\n",
       "      <th>2</th>\n",
       "      <td>2</td>\n",
       "      <td>2020-10-05 08:00:00-04:00</td>\n",
       "      <td>PLRX</td>\n",
       "      <td>20.00</td>\n",
       "      <td>21.43</td>\n",
       "      <td>1.43</td>\n",
       "      <td>7.150000</td>\n",
       "      <td>BUY</td>\n",
       "    </tr>\n",
       "    <tr>\n",
       "      <th>3</th>\n",
       "      <td>3</td>\n",
       "      <td>2021-02-22 06:05:00-05:00</td>\n",
       "      <td>DISH</td>\n",
       "      <td>34.25</td>\n",
       "      <td>32.00</td>\n",
       "      <td>-2.25</td>\n",
       "      <td>-6.569343</td>\n",
       "      <td>SELL</td>\n",
       "    </tr>\n",
       "    <tr>\n",
       "      <th>4</th>\n",
       "      <td>4</td>\n",
       "      <td>2021-01-21 07:30:00-05:00</td>\n",
       "      <td>TGT</td>\n",
       "      <td>188.35</td>\n",
       "      <td>191.00</td>\n",
       "      <td>2.65</td>\n",
       "      <td>1.406955</td>\n",
       "      <td>BUY</td>\n",
       "    </tr>\n",
       "  </tbody>\n",
       "</table>\n",
       "</div>"
      ],
      "text/plain": [
       "   id                   pub_time ticker  start_price  end_price_1day  \\\n",
       "0   0  2020-12-08 09:00:00-05:00    MIK        12.07           12.80   \n",
       "1   1  2020-10-01 12:11:00-04:00    DUK        89.74           90.05   \n",
       "2   2  2020-10-05 08:00:00-04:00   PLRX        20.00           21.43   \n",
       "3   3  2021-02-22 06:05:00-05:00   DISH        34.25           32.00   \n",
       "4   4  2021-01-21 07:30:00-05:00    TGT       188.35          191.00   \n",
       "\n",
       "   price_change  price_change_percent action  \n",
       "0          0.73              6.048053    BUY  \n",
       "1          0.31              0.345442   HOLD  \n",
       "2          1.43              7.150000    BUY  \n",
       "3         -2.25             -6.569343   SELL  \n",
       "4          2.65              1.406955    BUY  "
      ]
     },
     "execution_count": 4,
     "metadata": {},
     "output_type": "execute_result"
    }
   ],
   "source": [
    "df.head()"
   ]
  },
  {
   "cell_type": "code",
   "execution_count": 5,
   "id": "39d6b1f5-8fd2-4a63-ba21-c749f32700f1",
   "metadata": {},
   "outputs": [
    {
     "name": "stdout",
     "output_type": "stream",
     "text": [
      "<class 'pandas.core.frame.DataFrame'>\n",
      "RangeIndex: 106619 entries, 0 to 106618\n",
      "Data columns (total 8 columns):\n",
      " #   Column                Non-Null Count   Dtype  \n",
      "---  ------                --------------   -----  \n",
      " 0   id                    106619 non-null  int64  \n",
      " 1   pub_time              106619 non-null  object \n",
      " 2   ticker                106619 non-null  object \n",
      " 3   start_price           106619 non-null  float64\n",
      " 4   end_price_1day        106619 non-null  float64\n",
      " 5   price_change          106619 non-null  float64\n",
      " 6   price_change_percent  106619 non-null  float64\n",
      " 7   action                106619 non-null  object \n",
      "dtypes: float64(4), int64(1), object(3)\n",
      "memory usage: 6.5+ MB\n"
     ]
    }
   ],
   "source": [
    "df.info()"
   ]
  },
  {
   "cell_type": "code",
   "execution_count": 6,
   "id": "e84dd87a-283f-42f2-ab37-f145ed746ff6",
   "metadata": {},
   "outputs": [
    {
     "data": {
      "text/html": [
       "<div>\n",
       "<style scoped>\n",
       "    .dataframe tbody tr th:only-of-type {\n",
       "        vertical-align: middle;\n",
       "    }\n",
       "\n",
       "    .dataframe tbody tr th {\n",
       "        vertical-align: top;\n",
       "    }\n",
       "\n",
       "    .dataframe thead th {\n",
       "        text-align: right;\n",
       "    }\n",
       "</style>\n",
       "<table border=\"1\" class=\"dataframe\">\n",
       "  <thead>\n",
       "    <tr style=\"text-align: right;\">\n",
       "      <th></th>\n",
       "      <th>id</th>\n",
       "      <th>start_price</th>\n",
       "      <th>end_price_1day</th>\n",
       "      <th>price_change</th>\n",
       "      <th>price_change_percent</th>\n",
       "    </tr>\n",
       "  </thead>\n",
       "  <tbody>\n",
       "    <tr>\n",
       "      <th>count</th>\n",
       "      <td>106619.000000</td>\n",
       "      <td>106619.000000</td>\n",
       "      <td>106619.000000</td>\n",
       "      <td>106619.000000</td>\n",
       "      <td>106619.000000</td>\n",
       "    </tr>\n",
       "    <tr>\n",
       "      <th>mean</th>\n",
       "      <td>53309.000000</td>\n",
       "      <td>77.769594</td>\n",
       "      <td>77.784219</td>\n",
       "      <td>0.014625</td>\n",
       "      <td>0.230676</td>\n",
       "    </tr>\n",
       "    <tr>\n",
       "      <th>std</th>\n",
       "      <td>30778.398513</td>\n",
       "      <td>156.778499</td>\n",
       "      <td>156.711596</td>\n",
       "      <td>3.381724</td>\n",
       "      <td>7.209507</td>\n",
       "    </tr>\n",
       "    <tr>\n",
       "      <th>min</th>\n",
       "      <td>0.000000</td>\n",
       "      <td>0.126780</td>\n",
       "      <td>0.127400</td>\n",
       "      <td>-135.010000</td>\n",
       "      <td>-75.617647</td>\n",
       "    </tr>\n",
       "    <tr>\n",
       "      <th>25%</th>\n",
       "      <td>26654.500000</td>\n",
       "      <td>12.310000</td>\n",
       "      <td>12.320000</td>\n",
       "      <td>-0.350000</td>\n",
       "      <td>-1.153937</td>\n",
       "    </tr>\n",
       "    <tr>\n",
       "      <th>50%</th>\n",
       "      <td>53309.000000</td>\n",
       "      <td>36.050000</td>\n",
       "      <td>36.050000</td>\n",
       "      <td>0.000000</td>\n",
       "      <td>0.000000</td>\n",
       "    </tr>\n",
       "    <tr>\n",
       "      <th>75%</th>\n",
       "      <td>79963.500000</td>\n",
       "      <td>88.405000</td>\n",
       "      <td>88.630000</td>\n",
       "      <td>0.390000</td>\n",
       "      <td>1.212121</td>\n",
       "    </tr>\n",
       "    <tr>\n",
       "      <th>max</th>\n",
       "      <td>106618.000000</td>\n",
       "      <td>4805.220000</td>\n",
       "      <td>4800.000000</td>\n",
       "      <td>147.750000</td>\n",
       "      <td>1293.148148</td>\n",
       "    </tr>\n",
       "  </tbody>\n",
       "</table>\n",
       "</div>"
      ],
      "text/plain": [
       "                  id    start_price  end_price_1day   price_change  \\\n",
       "count  106619.000000  106619.000000   106619.000000  106619.000000   \n",
       "mean    53309.000000      77.769594       77.784219       0.014625   \n",
       "std     30778.398513     156.778499      156.711596       3.381724   \n",
       "min         0.000000       0.126780        0.127400    -135.010000   \n",
       "25%     26654.500000      12.310000       12.320000      -0.350000   \n",
       "50%     53309.000000      36.050000       36.050000       0.000000   \n",
       "75%     79963.500000      88.405000       88.630000       0.390000   \n",
       "max    106618.000000    4805.220000     4800.000000     147.750000   \n",
       "\n",
       "       price_change_percent  \n",
       "count         106619.000000  \n",
       "mean               0.230676  \n",
       "std                7.209507  \n",
       "min              -75.617647  \n",
       "25%               -1.153937  \n",
       "50%                0.000000  \n",
       "75%                1.212121  \n",
       "max             1293.148148  "
      ]
     },
     "execution_count": 6,
     "metadata": {},
     "output_type": "execute_result"
    }
   ],
   "source": [
    "df.describe()"
   ]
  },
  {
   "cell_type": "code",
   "execution_count": 7,
   "id": "787587bc-031e-4817-bc6c-91aa93cf9b51",
   "metadata": {},
   "outputs": [
    {
     "data": {
      "text/plain": [
       "<AxesSubplot: xlabel='action', ylabel='Count'>"
      ]
     },
     "execution_count": 7,
     "metadata": {},
     "output_type": "execute_result"
    },
    {
     "data": {
      "image/png": "[encoded data removed]",
      "text/plain": [
       "<Figure size 640x480 with 1 Axes>"
      ]
     },
     "metadata": {},
     "output_type": "display_data"
    }
   ],
   "source": [
    "sns.histplot(x='action', data=df)"
   ]
  },
  {
   "cell_type": "code",
   "execution_count": 10,
   "id": "cd618b6d-93f3-4aee-b1f6-bc8dd926b9b3",
   "metadata": {},
   "outputs": [
    {
     "data": {
      "text/plain": [
       "<matplotlib.lines.Line2D at 0x2dcce0b50>"
      ]
     },
     "execution_count": 10,
     "metadata": {},
     "output_type": "execute_result"
    },
    {
     "data": {
      "image/png": "[encoded data removed]",
      "text/plain": [
       "<Figure size 640x480 with 1 Axes>"
      ]
     },
     "metadata": {},
     "output_type": "display_data"
    }
   ],
   "source": [
    "sns.histplot(x='price_change_percent', data=df[df['price_change_percent'].abs() < 10])\n",
    "plt.xlabel('Price Change (%)')\n",
    "plt.axvline(0.5, c='r')\n",
    "plt.axvline(-0.5, c='r')"
   ]
  },
  {
   "cell_type": "code",
   "execution_count": 9,
   "id": "9c4d454b-d0ca-4cf9-8ae8-1930276283bf",
   "metadata": {},
   "outputs": [
    {
     "name": "stdout",
     "output_type": "stream",
     "text": [
      "96.16% of the data saw stock increase/decreases within 10%\n"
     ]
    }
   ],
   "source": [
    "l0 = len(df)\n",
    "l1 = len(df[df['price_change_percent'].abs() < 10])\n",
    "\n",
    "print(f'{round(l1/l0*100,2)}% of the data saw stock increase/decreases within 10%')"
   ]
  },
  {
   "cell_type": "code",
   "execution_count": 15,
   "id": "de5b62dd-adb4-4f85-8ef1-4f5b73a8fef8",
   "metadata": {},
   "outputs": [
    {
     "name": "stdout",
     "output_type": "stream",
     "text": [
      "39211\n",
      "37598\n",
      "29810\n"
     ]
    }
   ],
   "source": [
    "print(len(df[df['action']=='BUY']))\n",
    "print(len(df[df['action']=='SELL']))\n",
    "print(len(df[df['action']=='HOLD']))"
   ]
  },
  {
   "cell_type": "code",
   "execution_count": 16,
   "id": "b6dfe28a-02e8-4e57-ac18-2f4da8cb701a",
   "metadata": {},
   "outputs": [
    {
     "name": "stdout",
     "output_type": "stream",
     "text": [
      "5136\n"
     ]
    }
   ],
   "source": [
    "print(len(df[df['price_change_percent']==0]))"
   ]
  },
  {
   "cell_type": "code",
   "execution_count": 17,
   "id": "ec431115-8827-43b5-8706-d824895af833",
   "metadata": {},
   "outputs": [
    {
     "data": {
      "text/html": [
       "<div>\n",
       "<style scoped>\n",
       "    .dataframe tbody tr th:only-of-type {\n",
       "        vertical-align: middle;\n",
       "    }\n",
       "\n",
       "    .dataframe tbody tr th {\n",
       "        vertical-align: top;\n",
       "    }\n",
       "\n",
       "    .dataframe thead th {\n",
       "        text-align: right;\n",
       "    }\n",
       "</style>\n",
       "<table border=\"1\" class=\"dataframe\">\n",
       "  <thead>\n",
       "    <tr style=\"text-align: right;\">\n",
       "      <th></th>\n",
       "      <th>id</th>\n",
       "      <th>start_price</th>\n",
       "      <th>end_price_1day</th>\n",
       "      <th>price_change</th>\n",
       "      <th>price_change_percent</th>\n",
       "    </tr>\n",
       "  </thead>\n",
       "  <tbody>\n",
       "    <tr>\n",
       "      <th>count</th>\n",
       "      <td>106619.000000</td>\n",
       "      <td>106619.000000</td>\n",
       "      <td>106619.000000</td>\n",
       "      <td>106619.000000</td>\n",
       "      <td>106619.000000</td>\n",
       "    </tr>\n",
       "    <tr>\n",
       "      <th>mean</th>\n",
       "      <td>53309.000000</td>\n",
       "      <td>77.769594</td>\n",
       "      <td>77.784219</td>\n",
       "      <td>0.014625</td>\n",
       "      <td>0.230676</td>\n",
       "    </tr>\n",
       "    <tr>\n",
       "      <th>std</th>\n",
       "      <td>30778.398513</td>\n",
       "      <td>156.778499</td>\n",
       "      <td>156.711596</td>\n",
       "      <td>3.381724</td>\n",
       "      <td>7.209507</td>\n",
       "    </tr>\n",
       "    <tr>\n",
       "      <th>min</th>\n",
       "      <td>0.000000</td>\n",
       "      <td>0.126780</td>\n",
       "      <td>0.127400</td>\n",
       "      <td>-135.010000</td>\n",
       "      <td>-75.617647</td>\n",
       "    </tr>\n",
       "    <tr>\n",
       "      <th>25%</th>\n",
       "      <td>26654.500000</td>\n",
       "      <td>12.310000</td>\n",
       "      <td>12.320000</td>\n",
       "      <td>-0.350000</td>\n",
       "      <td>-1.153937</td>\n",
       "    </tr>\n",
       "    <tr>\n",
       "      <th>50%</th>\n",
       "      <td>53309.000000</td>\n",
       "      <td>36.050000</td>\n",
       "      <td>36.050000</td>\n",
       "      <td>0.000000</td>\n",
       "      <td>0.000000</td>\n",
       "    </tr>\n",
       "    <tr>\n",
       "      <th>75%</th>\n",
       "      <td>79963.500000</td>\n",
       "      <td>88.405000</td>\n",
       "      <td>88.630000</td>\n",
       "      <td>0.390000</td>\n",
       "      <td>1.212121</td>\n",
       "    </tr>\n",
       "    <tr>\n",
       "      <th>max</th>\n",
       "      <td>106618.000000</td>\n",
       "      <td>4805.220000</td>\n",
       "      <td>4800.000000</td>\n",
       "      <td>147.750000</td>\n",
       "      <td>1293.148148</td>\n",
       "    </tr>\n",
       "  </tbody>\n",
       "</table>\n",
       "</div>"
      ],
      "text/plain": [
       "                  id    start_price  end_price_1day   price_change  \\\n",
       "count  106619.000000  106619.000000   106619.000000  106619.000000   \n",
       "mean    53309.000000      77.769594       77.784219       0.014625   \n",
       "std     30778.398513     156.778499      156.711596       3.381724   \n",
       "min         0.000000       0.126780        0.127400    -135.010000   \n",
       "25%     26654.500000      12.310000       12.320000      -0.350000   \n",
       "50%     53309.000000      36.050000       36.050000       0.000000   \n",
       "75%     79963.500000      88.405000       88.630000       0.390000   \n",
       "max    106618.000000    4805.220000     4800.000000     147.750000   \n",
       "\n",
       "       price_change_percent  \n",
       "count         106619.000000  \n",
       "mean               0.230676  \n",
       "std                7.209507  \n",
       "min              -75.617647  \n",
       "25%               -1.153937  \n",
       "50%                0.000000  \n",
       "75%                1.212121  \n",
       "max             1293.148148  "
      ]
     },
     "execution_count": 17,
     "metadata": {},
     "output_type": "execute_result"
    }
   ],
   "source": [
    "df.describe()"
   ]
  },
  {
   "cell_type": "markdown",
   "id": "b65d44bd-8136-49d5-914e-fbb6fba27662",
   "metadata": {},
   "source": [
    "TODO: EDA for corporate events\n",
    "\n",
    "A 229 CT 314\n",
    "RD 290 DC 109\n",
    "DI 225 GI 99\n",
    "NC 518 RSS 51\n",
    "SD 80 SR 385"
   ]
  },
  {
   "cell_type": "code",
   "execution_count": 23,
   "id": "f1380d79-8576-4d4c-a6e7-790ccf603887",
   "metadata": {},
   "outputs": [
    {
     "data": {
      "text/plain": [
       "dict_values([229, 290, 225, 518, 80, 314, 109, 99, 51, 385, 76])"
      ]
     },
     "execution_count": 23,
     "metadata": {},
     "output_type": "execute_result"
    }
   ],
   "source": [
    "events.values()"
   ]
  },
  {
   "cell_type": "code",
   "execution_count": 25,
   "id": "c50f7ae4-9bb7-4d88-99f7-801f720a55c3",
   "metadata": {},
   "outputs": [
    {
     "data": {
      "text/plain": [
       "([<matplotlib.patches.Wedge at 0x2d1c75330>,\n",
       "  <matplotlib.patches.Wedge at 0x2d1c759c0>,\n",
       "  <matplotlib.patches.Wedge at 0x2d1c2b9a0>,\n",
       "  <matplotlib.patches.Wedge at 0x2d1c76650>,\n",
       "  <matplotlib.patches.Wedge at 0x2d1c76ce0>,\n",
       "  <matplotlib.patches.Wedge at 0x2d1c77310>,\n",
       "  <matplotlib.patches.Wedge at 0x2d1c779d0>,\n",
       "  <matplotlib.patches.Wedge at 0x2d1cbc0d0>,\n",
       "  <matplotlib.patches.Wedge at 0x2d1cbc760>,\n",
       "  <matplotlib.patches.Wedge at 0x2d1cbcdf0>,\n",
       "  <matplotlib.patches.Wedge at 0x2d1c752a0>],\n",
       " [Text(1.0499596935254063, 0.3280009786144472, 'A'),\n",
       "  Text(0.6044598798615171, 0.9190365899341553, 'RD'),\n",
       "  Text(-0.10890436118852556, 1.0945957427809225, 'DI'),\n",
       "  Text(-0.970969074575845, 0.5169323516837839, 'NC'),\n",
       "  Text(-1.050392476669747, -0.32661237722351455, 'SD'),\n",
       "  Text(-0.7484946075808853, -0.8060743281002918, 'CT'),\n",
       "  Text(-0.20674805981166713, -1.0803958717822424, 'DC'),\n",
       "  Text(0.09442230718940964, -1.0959399745903189, 'GI'),\n",
       "  Text(0.30850999893044473, -1.0558511166636786, 'RSS'),\n",
       "  Text(0.8341753239488006, -0.7170436032173455, 'SR'),\n",
       "  Text(1.0944507813842026, -0.11035165212858641, 'SS')],\n",
       " [Text(0.5727052873774943, 0.17890962469878938, '9.6%'),\n",
       "  Text(0.32970538901537294, 0.50129268541863, '12.2%'),\n",
       "  Text(-0.05940237883010484, 0.5970522233350486, '9.5%'),\n",
       "  Text(-0.5296194952231881, 0.2819631009184276, '21.8%'),\n",
       "  Text(-0.572941350910771, -0.17815220575828064, '3.4%'),\n",
       "  Text(-0.4082697859532101, -0.4396769062365227, '13.2%'),\n",
       "  Text(-0.11277166898818206, -0.5893068391539503, '4.6%'),\n",
       "  Text(0.05150307664876889, -0.5977854406856284, '4.2%'),\n",
       "  Text(0.16827818123478802, -0.575918790907461, '2.1%'),\n",
       "  Text(0.45500472215389115, -0.3911146926640066, '16.2%'),\n",
       "  Text(0.5969731534822923, -0.06019181025195622, '3.2%')])"
      ]
     },
     "execution_count": 25,
     "metadata": {},
     "output_type": "execute_result"
    },
    {
     "data": {
      "image/png": "[encoded data removed]",
      "text/plain": [
       "<Figure size 640x480 with 1 Axes>"
      ]
     },
     "metadata": {},
     "output_type": "display_data"
    }
   ],
   "source": [
    "events = {\n",
    "    'A': 229,\n",
    "    'RD': 290,\n",
    "    'DI': 225,\n",
    "    'NC': 518,\n",
    "    'SD': 80,\n",
    "    'CT': 314,\n",
    "    'DC': 109,\n",
    "    'GI': 99,\n",
    "    'RSS': 51,\n",
    "    'SR': 385,\n",
    "    'SS': 76\n",
    "}\n",
    "\n",
    "plt.pie(events.values(), labels=events.keys(), autopct='%1.1f%%')"
   ]
  },
  {
   "cell_type": "code",
   "execution_count": 27,
   "id": "20f1b705-6784-4985-b5ab-ae28279fb83f",
   "metadata": {},
   "outputs": [
    {
     "data": {
      "text/plain": [
       "([<matplotlib.patches.Wedge at 0x2d48c1180>,\n",
       "  <matplotlib.patches.Wedge at 0x2d48c16c0>,\n",
       "  <matplotlib.patches.Wedge at 0x2d48c1d50>],\n",
       " [Text(-0.9109642100810751, 0.6165583572958548, 'BUY'),\n",
       "  Text(0.6141472345961865, -0.9125914607522124, 'SELL'),\n",
       "  Text(1.0201200385100002, -0.411527771882234, 'HOLD')],\n",
       " [Text(-0.4968895691351318, 0.33630455852501173, '81.1%'),\n",
       "  Text(0.334989400688829, -0.4977771604102976, '6.7%'),\n",
       "  Text(0.5564291119145455, -0.2244696937539458, '12.2%')])"
      ]
     },
     "execution_count": 27,
     "metadata": {},
     "output_type": "execute_result"
    },
    {
     "data": {
      "image/png": "[encoded data removed]",
      "text/plain": [
       "<Figure size 640x480 with 1 Axes>"
      ]
     },
     "metadata": {},
     "output_type": "display_data"
    }
   ],
   "source": [
    "movements = {\n",
    "    'BUY': events['A'] + events['DI'] + events['NC'] + events['SD'] + events['CT'] + events['GI'] + events['SR'] + events['SS'],\n",
    "    'SELL': events['RSS'] + events['DC'],\n",
    "    'HOLD': events['RD']\n",
    "\n",
    "}\n",
    "\n",
    "plt.pie(movements.values(), labels=movements.keys(), autopct='%1.1f%%')"
   ]
  },
  {
   "cell_type": "code",
   "execution_count": null,
   "id": "f5f7be3c-f1de-4d97-aebc-82ee3d7b71d2",
   "metadata": {},
   "outputs": [],
   "source": []
  }
 ],
 "metadata": {
  "kernelspec": {
   "display_name": "Python 3 (ipykernel)",
   "language": "python",
   "name": "python3"
  },
  "language_info": {
   "codemirror_mode": {
    "name": "ipython",
    "version": 3
   },
   "file_extension": ".py",
   "mimetype": "text/x-python",
   "name": "python",
   "nbconvert_exporter": "python",
   "pygments_lexer": "ipython3",
   "version": "3.10.7"
  }
 },
 "nbformat": 4,
 "nbformat_minor": 5
}
