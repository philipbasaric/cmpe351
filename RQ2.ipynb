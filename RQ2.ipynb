{
 "cells": [
  {
   "cell_type": "code",
   "execution_count": 69,
   "id": "840fc79e",
   "metadata": {},
   "outputs": [],
   "source": [
    "import numpy as np\n",
    "import pandas as pd\n",
    "from sklearn.preprocessing import OneHotEncoder, LabelEncoder\n",
    "from sklearn.linear_model import LogisticRegression\n",
    "from sklearn.model_selection import train_test_split\n",
    "from sklearn.metrics import accuracy_score, precision_score, recall_score, f1_score, confusion_matrix\n",
    "\n",
    "import seaborn as sns\n",
    "import matplotlib.pyplot as plt"
   ]
  },
  {
   "cell_type": "code",
   "execution_count": 70,
   "id": "1a9e113c",
   "metadata": {},
   "outputs": [],
   "source": [
    "def oneHotEncode(df):\n",
    "    onehot_encoder = OneHotEncoder(sparse=False)\n",
    "\n",
    "    column = df['sentiment'].values.reshape(-1, 1)\n",
    "    column_encoded = onehot_encoder.fit_transform(column)\n",
    "    encoded_df = pd.DataFrame(column_encoded, columns=onehot_encoder.get_feature_names(['sentiment']))\n",
    "\n",
    "    df = pd.concat([df, encoded_df], axis=1)\n",
    "\n",
    "    return df.drop('sentiment', axis=1)\n",
    "\n",
    "\n",
    "def getAccuracy(df):\n",
    "    \"\"\"\n",
    "    A predicted BUY (SELL) should be classified as correct if the stock \n",
    "    price increases (decreases), even if the labelled action is HOLD\n",
    "    \"\"\"\n",
    "    correct = 0\n",
    "    \n",
    "    for index, row in df.iterrows():\n",
    "        if row['prediction'] == row['action']:\n",
    "            correct += 1\n",
    "        elif row['prediction'] == 'BUY' and row['price_change_percent'] > 0:\n",
    "            correct += 1\n",
    "        elif row['prediction'] == 'SELL' and row['price_change_percent'] < 0:\n",
    "            correct += 1\n",
    "            \n",
    "    accuracy = correct / len(df)\n",
    "\n",
    "    return accuracy"
   ]
  },
  {
   "cell_type": "code",
   "execution_count": 104,
   "id": "0052c45c",
   "metadata": {},
   "outputs": [],
   "source": [
    "data = pd.read_csv('new2_current_progress_labelled.csv')\n",
    "data = oneHotEncode(data)\n",
    "\n",
    "train_data, test_data = train_test_split(data, test_size=0.2, random_state=42)\n",
    "\n",
    "X_train = train_data[['sentiment_negative', 'sentiment_neutral', 'sentiment_positive']]\n",
    "y_train = train_data[['action']]\n",
    "X_test = test_data[['sentiment_negative', 'sentiment_neutral', 'sentiment_positive']]\n",
    "y_test = test_data[['action']]"
   ]
  },
  {
   "cell_type": "markdown",
   "id": "99561b57",
   "metadata": {},
   "source": [
    "### Multi-Class Logistic Regression"
   ]
  },
  {
   "cell_type": "code",
   "execution_count": 105,
   "id": "cbc40ae8",
   "metadata": {},
   "outputs": [
    {
     "name": "stderr",
     "output_type": "stream",
     "text": [
      "/opt/conda/lib/python3.8/site-packages/sklearn/utils/validation.py:63: DataConversionWarning: A column-vector y was passed when a 1d array was expected. Please change the shape of y to (n_samples, ), for example using ravel().\n",
      "  return f(*args, **kwargs)\n",
      "/tmp/ipykernel_3404395/4060252764.py:6: SettingWithCopyWarning: \n",
      "A value is trying to be set on a copy of a slice from a DataFrame.\n",
      "Try using .loc[row_indexer,col_indexer] = value instead\n",
      "\n",
      "See the caveats in the documentation: https://pandas.pydata.org/pandas-docs/stable/user_guide/indexing.html#returning-a-view-versus-a-copy\n",
      "  test_data['prediction'] = y_pred\n"
     ]
    },
    {
     "data": {
      "text/plain": [
       "0.41975308641975306"
      ]
     },
     "execution_count": 105,
     "metadata": {},
     "output_type": "execute_result"
    }
   ],
   "source": [
    "clf = LogisticRegression(random_state=42, multi_class='multinomial', solver='lbfgs')\n",
    "\n",
    "clf.fit(X_train,y_train)\n",
    "y_pred = clf.predict(X_test)\n",
    "\n",
    "test_data['prediction'] = y_pred\n",
    "\n",
    "getAccuracy(test_data)"
   ]
  },
  {
   "cell_type": "code",
   "execution_count": 106,
   "id": "7c22e4dd",
   "metadata": {},
   "outputs": [
    {
     "data": {
      "image/png": "[encoded data removed]",
      "text/plain": [
       "<Figure size 432x288 with 2 Axes>"
      ]
     },
     "metadata": {
      "needs_background": "light"
     },
     "output_type": "display_data"
    }
   ],
   "source": [
    "cm = confusion_matrix(test_data['action'], test_data['prediction'])\n",
    "\n",
    "cm_df = pd.DataFrame(cm, columns=['Class 0', 'Class 1', 'Class 2'], index=['Class 0', 'Class 1', 'Class 2'])\n",
    "\n",
    "# create heatmap using seaborn library\n",
    "sns.heatmap(cm_df, annot=True, cmap='Blues')\n",
    "\n",
    "plt.title('Confusion Matrix')\n",
    "plt.xlabel('Predicted label')\n",
    "plt.ylabel('True label')\n",
    "plt.show()"
   ]
  },
  {
   "cell_type": "markdown",
   "id": "9cfefa8d",
   "metadata": {},
   "source": [
    "### XGBoost"
   ]
  },
  {
   "cell_type": "code",
   "execution_count": 22,
   "id": "5918fb8b",
   "metadata": {},
   "outputs": [
    {
     "name": "stdout",
     "output_type": "stream",
     "text": [
      "[22:56:59] WARNING: ../src/learner.cc:767: \n",
      "Parameters: { \"num_classes\" } are not used.\n",
      "\n"
     ]
    },
    {
     "name": "stderr",
     "output_type": "stream",
     "text": [
      "/tmp/ipykernel_3404395/881266142.py:22: SettingWithCopyWarning: \n",
      "A value is trying to be set on a copy of a slice from a DataFrame.\n",
      "Try using .loc[row_indexer,col_indexer] = value instead\n",
      "\n",
      "See the caveats in the documentation: https://pandas.pydata.org/pandas-docs/stable/user_guide/indexing.html#returning-a-view-versus-a-copy\n",
      "  test_data['prediction'] = le.inverse_transform(y_pred)\n"
     ]
    },
    {
     "data": {
      "text/plain": [
       "0.48247978436657685"
      ]
     },
     "execution_count": 22,
     "metadata": {},
     "output_type": "execute_result"
    }
   ],
   "source": [
    "import xgboost as xgb\n",
    "\n",
    "le = LabelEncoder()\n",
    "y_train_numeric = pd.DataFrame()\n",
    "y_train_numeric['action'] = le.fit_transform(train_data['action'])\n",
    "\n",
    "model = xgb.XGBClassifier(\n",
    "    learning_rate=0.1,\n",
    "    n_estimators=10,\n",
    "    max_depth=4,\n",
    "    objective='multi:softmax',\n",
    "    num_classes=3,\n",
    "    eval_metric='mlogloss'\n",
    ")\n",
    "\n",
    "model.fit(X_train, y_train_numeric)\n",
    "\n",
    "y_pred = model.predict(X_test)\n",
    "\n",
    "test_data['prediction'] = le.inverse_transform(y_pred)\n",
    "\n",
    "getAccuracy(test_data)"
   ]
  },
  {
   "cell_type": "markdown",
   "id": "531669e1",
   "metadata": {},
   "source": [
    "### KNN"
   ]
  },
  {
   "cell_type": "code",
   "execution_count": 26,
   "id": "406dcd83",
   "metadata": {},
   "outputs": [
    {
     "name": "stderr",
     "output_type": "stream",
     "text": [
      "/opt/conda/lib/python3.8/site-packages/sklearn/neighbors/_classification.py:179: DataConversionWarning: A column-vector y was passed when a 1d array was expected. Please change the shape of y to (n_samples,), for example using ravel().\n",
      "  return self._fit(X, y)\n",
      "/opt/conda/lib/python3.8/site-packages/sklearn/neighbors/_classification.py:211: FutureWarning: Unlike other reduction functions (e.g. `skew`, `kurtosis`), the default behavior of `mode` typically preserves the axis it acts along. In SciPy 1.11.0, this behavior will change: the default value of `keepdims` will become False, the `axis` over which the statistic is taken will be eliminated, and the value None will no longer be accepted. Set `keepdims` to True or False to avoid this warning.\n",
      "  mode, _ = stats.mode(_y[neigh_ind, k], axis=1)\n",
      "/tmp/ipykernel_3404395/3626877439.py:12: SettingWithCopyWarning: \n",
      "A value is trying to be set on a copy of a slice from a DataFrame.\n",
      "Try using .loc[row_indexer,col_indexer] = value instead\n",
      "\n",
      "See the caveats in the documentation: https://pandas.pydata.org/pandas-docs/stable/user_guide/indexing.html#returning-a-view-versus-a-copy\n",
      "  test_data['prediction'] = y_pred\n"
     ]
    },
    {
     "data": {
      "text/plain": [
       "0.48247978436657685"
      ]
     },
     "execution_count": 26,
     "metadata": {},
     "output_type": "execute_result"
    }
   ],
   "source": [
    "from sklearn.neighbors import KNeighborsClassifier\n",
    "\n",
    "le = LabelEncoder()\n",
    "y_train_numeric = pd.DataFrame()\n",
    "y_train_numeric['action'] = le.fit_transform(train_data['action'])\n",
    "\n",
    "knn = KNeighborsClassifier(n_neighbors=10)\n",
    "knn.fit(X_train, y_train)\n",
    "\n",
    "y_pred = knn.predict(X_test)\n",
    "\n",
    "test_data['prediction'] = y_pred\n",
    "\n",
    "getAccuracy(test_data)"
   ]
  },
  {
   "cell_type": "code",
   "execution_count": 39,
   "id": "cd490c84",
   "metadata": {},
   "outputs": [
    {
     "data": {
      "text/plain": [
       "BUY     664\n",
       "SELL    600\n",
       "HOLD    591\n",
       "Name: action, dtype: int64"
      ]
     },
     "execution_count": 39,
     "metadata": {},
     "output_type": "execute_result"
    }
   ],
   "source": [
    "data['action'].value_counts()"
   ]
  }
 ],
 "metadata": {
  "kernelspec": {
   "display_name": "Python 3 (ipykernel)",
   "language": "python",
   "name": "python3"
  },
  "language_info": {
   "codemirror_mode": {
    "name": "ipython",
    "version": 3
   },
   "file_extension": ".py",
   "mimetype": "text/x-python",
   "name": "python",
   "nbconvert_exporter": "python",
   "pygments_lexer": "ipython3",
   "version": "3.8.6"
  }
 },
 "nbformat": 4,
 "nbformat_minor": 5
}
